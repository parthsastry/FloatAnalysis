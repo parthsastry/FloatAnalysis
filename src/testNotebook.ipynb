{
 "cells": [
  {
   "cell_type": "code",
   "execution_count": null,
   "id": "d2d8fc6d",
   "metadata": {},
   "outputs": [],
   "source": [
    "# library imports\n",
    "import pandas as pd\n",
    "import numpy as np\n",
    "import matplotlib.pyplot as plt\n",
    "import xarray as xr\n",
    "import cartopy.crs as ccrs\n",
    "import cartopy.feature as cfeature\n",
    "from datetime import datetime\n",
    "\n",
    "import warnings\n",
    "warnings.filterwarnings(\"ignore\")\n",
    "\n",
    "from pydap.net import create_session\n",
    "from pydap.client import open_url\n",
    "import pydap\n",
    "\n",
    "# local imports\n",
    "from helperLibrary import subset, crop, profileLocationPlot\n"
   ]
  },
  {
   "cell_type": "code",
   "execution_count": null,
   "id": "56acee42",
   "metadata": {},
   "outputs": [],
   "source": [
    "profilesETP = xr.open_dataset(\n",
    "    \"../data/ARGO_VortexProfiles/subsetProfiles/EasternTropicalPacific.nc\"\n",
    ")"
   ]
  },
  {
   "cell_type": "code",
   "execution_count": null,
   "id": "3886766b",
   "metadata": {},
   "outputs": [],
   "source": [
    "import cf_xarray"
   ]
  },
  {
   "cell_type": "code",
   "execution_count": null,
   "id": "fb0ee641",
   "metadata": {},
   "outputs": [],
   "source": [
    "import gsw_xarray as gsw_xr"
   ]
  },
  {
   "cell_type": "code",
   "execution_count": null,
   "id": "154a3d8c",
   "metadata": {},
   "outputs": [],
   "source": [
    "pres = gsw_xr.p_from_z(\n",
    "    -profilesETP['z'],\n",
    "    profilesETP['latitude'],\n",
    ")"
   ]
  },
  {
   "cell_type": "code",
   "execution_count": null,
   "id": "4cd2632d",
   "metadata": {},
   "outputs": [],
   "source": [
    "uvel_url = 'http://apdrc.soest.hawaii.edu:80/dods/public_data/ECCO/ECCO2/cube92_daily/uvel'\n",
    "vvel_url = 'http://apdrc.soest.hawaii.edu:80/dods/public_data/ECCO/ECCO2/cube92_daily/vvel'\n",
    "theta_url = 'http://apdrc.soest.hawaii.edu:80/dods/public_data/ECCO/ECCO2/cube92_daily/theta'\n",
    "salt_url = 'http://apdrc.soest.hawaii.edu:80/dods/public_data/ECCO/ECCO2/cube92_daily/salt'\n",
    "ECCO2_uvel = xr.open_dataset(\n",
    "    uvel_url,\n",
    "    engine='pydap'\n",
    ")\n",
    "ECCO2_vvel = xr.open_dataset(\n",
    "    vvel_url,\n",
    "    engine='pydap'\n",
    ")\n",
    "ECCO2_theta = xr.open_dataset(\n",
    "    theta_url,\n",
    "    engine='pydap'\n",
    ")\n",
    "ECCO2_salt = xr.open_dataset(\n",
    "    salt_url,\n",
    "    engine='pydap'\n",
    ")"
   ]
  },
  {
   "cell_type": "code",
   "execution_count": null,
   "id": "d048b026",
   "metadata": {},
   "outputs": [],
   "source": [
    "ECCO2_uvel = ECCO2_uvel.sel(\n",
    "    lat=slice(5, 23.75),\n",
    "    lon=slice(245, 267.5),\n",
    "    time=slice(np.datetime64('2004-01-01'), np.datetime64('2022-12-31')),\n",
    "    drop=True\n",
    ")"
   ]
  },
  {
   "cell_type": "code",
   "execution_count": null,
   "id": "2b14af0a",
   "metadata": {},
   "outputs": [],
   "source": [
    "ECCO2_vvel = ECCO2_vvel.sel(\n",
    "    lat=slice(5, 23.75),\n",
    "    lon=slice(245, 267.5),\n",
    "    time=slice(np.datetime64('2004-01-01'), np.datetime64('2022-12-31')),\n",
    "    drop=True\n",
    ")"
   ]
  },
  {
   "cell_type": "code",
   "execution_count": null,
   "id": "beac7f4a",
   "metadata": {},
   "outputs": [],
   "source": [
    "ECCO2velocities = xr.merge(\n",
    "    [ECCO2_uvel, ECCO2_vvel]\n",
    ")"
   ]
  },
  {
   "cell_type": "code",
   "execution_count": null,
   "id": "2661b315",
   "metadata": {},
   "outputs": [],
   "source": [
    "ECCO2velocities"
   ]
  },
  {
   "cell_type": "code",
   "execution_count": null,
   "id": "a0372a48",
   "metadata": {},
   "outputs": [],
   "source": [
    "ECCO2velocities = ECCO2velocities.where(\n",
    "    (ECCO2velocities['lat'] <= 18) |\n",
    "    (ECCO2velocities['lon'] <= 240), drop=True\n",
    ")"
   ]
  },
  {
   "cell_type": "code",
   "execution_count": null,
   "id": "2caf263f",
   "metadata": {},
   "outputs": [],
   "source": [
    "climatology = xr.open_dataset(\n",
    "    \"../data/ARGO_RG2019_Climatology/subsetClimatology/RG_ArgoClim_Merged_ETP.nc\"\n",
    ")"
   ]
  },
  {
   "cell_type": "code",
   "execution_count": null,
   "id": "578c1570",
   "metadata": {},
   "outputs": [],
   "source": [
    "climatology"
   ]
  },
  {
   "cell_type": "code",
   "execution_count": null,
   "id": "c24ea128",
   "metadata": {},
   "outputs": [],
   "source": []
  }
 ],
 "metadata": {
  "kernelspec": {
   "display_name": "FloatDataAnalysis",
   "language": "python",
   "name": "python3"
  },
  "language_info": {
   "codemirror_mode": {
    "name": "ipython",
    "version": 3
   },
   "file_extension": ".py",
   "mimetype": "text/x-python",
   "name": "python",
   "nbconvert_exporter": "python",
   "pygments_lexer": "ipython3",
   "version": "3.13.3"
  }
 },
 "nbformat": 4,
 "nbformat_minor": 5
}
