{
 "cells": [
  {
   "cell_type": "code",
   "execution_count": null,
   "id": "d2d8fc6d",
   "metadata": {},
   "outputs": [],
   "source": [
    "# library imports\n",
    "import pandas as pd\n",
    "import numpy as np\n",
    "import matplotlib.pyplot as plt\n",
    "import xarray as xr\n",
    "import cartopy.crs as ccrs\n",
    "import cartopy.feature as cfeature\n",
    "from datetime import datetime\n",
    "\n",
    "import warnings\n",
    "warnings.filterwarnings(\"ignore\")\n",
    "\n",
    "from pydap.net import create_session\n",
    "from pydap.client import open_url\n",
    "import pydap\n",
    "import gsw_xarray as gsw_xr\n",
    "import cf_xarray\n",
    "\n",
    "# local imports\n",
    "from helperLibrary import subset, crop, profileLocationPlot\n"
   ]
  },
  {
   "cell_type": "code",
   "execution_count": null,
   "id": "56acee42",
   "metadata": {},
   "outputs": [],
   "source": [
    "minimalProfileData = xr.open_dataset(\n",
    "    \"../data/ARGO_VortexProfiles/subsetProfiles/EasternTropicalPacific_densityMapped_minimal.nc\"\n",
    ")\n",
    "minimalProfileData.info"
   ]
  },
  {
   "cell_type": "code",
   "execution_count": null,
   "id": "c277ceaf",
   "metadata": {},
   "outputs": [],
   "source": [
    "minimalProfileData['lon'][5738].values"
   ]
  },
  {
   "cell_type": "code",
   "execution_count": null,
   "id": "fe2e86a3",
   "metadata": {},
   "outputs": [],
   "source": [
    "climatological"
   ]
  },
  {
   "cell_type": "code",
   "execution_count": null,
   "id": "fb5f463b",
   "metadata": {},
   "outputs": [],
   "source": [
    "profileMLD = xr.open_dataset(\n",
    "    \"../data/ARGO_MLD/Argo_mixedlayers_all_04142022.nc\"\n",
    ")"
   ]
  },
  {
   "cell_type": "code",
   "execution_count": null,
   "id": "8963bf7d",
   "metadata": {},
   "outputs": [],
   "source": [
    "climatologicalMLD = xr.open_dataset(\n",
    "    \"../data/ARGO_MLD/Argo_mixedlayers_monthlyclim_04142022.nc\"\n",
    ")"
   ]
  },
  {
   "cell_type": "code",
   "execution_count": null,
   "id": "7dfc3898",
   "metadata": {},
   "outputs": [],
   "source": [
    "climatologicalMLD['mld_da_max']"
   ]
  },
  {
   "cell_type": "code",
   "execution_count": null,
   "id": "a8539ceb",
   "metadata": {},
   "outputs": [],
   "source": [
    "climatologicalMLD['lon'][0].values"
   ]
  },
  {
   "cell_type": "code",
   "execution_count": null,
   "id": "504bf7f6",
   "metadata": {},
   "outputs": [],
   "source": [
    "climatologicalMLD['lon'].sel(\n",
    "    iLON=179 + int(minimalProfileData['lon'][5738].values),\n",
    ").values"
   ]
  },
  {
   "cell_type": "code",
   "execution_count": null,
   "id": "986ba822",
   "metadata": {},
   "outputs": [],
   "source": [
    "minimalProfileData['time'][5738].values"
   ]
  },
  {
   "cell_type": "code",
   "execution_count": null,
   "id": "a4c5be73",
   "metadata": {},
   "outputs": [],
   "source": [
    "climatologicalMLD['mld_da_max'].sel(\n",
    "    iLAT=90 + int(minimalProfileData['lat'][5738].values),\n",
    "    iLON=179 + int(minimalProfileData['lon'][5738].values),\n",
    "    iMONTH=minimalProfileData['time'][5738].dt.month - 1,\n",
    ").values"
   ]
  },
  {
   "cell_type": "code",
   "execution_count": null,
   "id": "180eaeca",
   "metadata": {},
   "outputs": [],
   "source": [
    "minimalClimatology = xr.open_dataset(\n",
    "    \"../data/ARGO_RG2019_Climatology/subsetClimatology/RG_ArgoClim_ETP_densityMapped_minimal.nc\"\n",
    ")\n",
    "minimalClimatology.info"
   ]
  },
  {
   "cell_type": "code",
   "execution_count": null,
   "id": "23259626",
   "metadata": {},
   "outputs": [],
   "source": [
    "# Interpolate climatology to profile locations\n",
    "profileLocationClimatology = minimalClimatology[['SA', 'sigma0']].interp(\n",
    "    LATITUDE=('casts', minimalProfileData['lat'].data),\n",
    "    LONGITUDE=('casts', (minimalProfileData['lon'].data + 360) % 360),\n",
    "    kwargs={'fill_value': None}\n",
    ")"
   ]
  },
  {
   "cell_type": "code",
   "execution_count": null,
   "id": "84feaade",
   "metadata": {},
   "outputs": [],
   "source": [
    "profileLocationClimatology['casts'] = (\"casts\", minimalProfileData['casts'].data)"
   ]
  },
  {
   "cell_type": "code",
   "execution_count": null,
   "id": "3c15e5ef",
   "metadata": {},
   "outputs": [],
   "source": [
    "missingInterpolationCasts = profileLocationClimatology['casts'].data[\n",
    "    np.isnan(profileLocationClimatology['SA'].data)[0,:,0]\n",
    "]"
   ]
  },
  {
   "cell_type": "code",
   "execution_count": null,
   "id": "715a7c79",
   "metadata": {},
   "outputs": [],
   "source": [
    "minimalProfileData"
   ]
  },
  {
   "cell_type": "code",
   "execution_count": null,
   "id": "3e232ba2",
   "metadata": {},
   "outputs": [],
   "source": [
    "castSA.data[:10]\n",
    "castSigma0.data[:10]"
   ]
  },
  {
   "cell_type": "code",
   "execution_count": null,
   "id": "ccff0842",
   "metadata": {},
   "outputs": [],
   "source": [
    "salinityAnomaly = minimalProfileData.copy()\n",
    "salinityAnomaly['SA_anomaly'] = xr.DataArray(\n",
    "    np.full_like(minimalProfileData['SA'].data, np.nan),\n",
    "    dims=minimalProfileData['SA'].dims,\n",
    "    coords=minimalProfileData['SA'].coords\n",
    ")\n",
    "salinityAnomaly['SA_climatology'] = xr.DataArray(\n",
    "    np.full_like(minimalProfileData['SA'].data, np.nan),\n",
    "    dims=minimalProfileData['SA'].dims,\n",
    "    coords=minimalProfileData['SA'].coords\n",
    ")"
   ]
  },
  {
   "cell_type": "code",
   "execution_count": null,
   "id": "227ad997",
   "metadata": {},
   "outputs": [],
   "source": [
    "salinityAnomaly.drop_vars(['SA', 'z'])"
   ]
  },
  {
   "cell_type": "code",
   "execution_count": null,
   "id": "eddbac89",
   "metadata": {},
   "outputs": [],
   "source": [
    "np.isin(cast, missingInterpolationCasts)"
   ]
  },
  {
   "cell_type": "code",
   "execution_count": null,
   "id": "2836a095",
   "metadata": {},
   "outputs": [],
   "source": [
    "profileLocationClimatology"
   ]
  },
  {
   "cell_type": "code",
   "execution_count": null,
   "id": "a3ee5546",
   "metadata": {},
   "outputs": [],
   "source": [
    "for cast in profileLocationClimatology['casts'][:]:\n",
    "    print(cast.values)"
   ]
  },
  {
   "cell_type": "code",
   "execution_count": null,
   "id": "fdb0b3c8",
   "metadata": {},
   "outputs": [],
   "source": [
    "casts = profileLocationClimatology['casts'][8472:8473]\n",
    "\n",
    "for cast in casts:\n",
    "    castSigma0 = minimalProfileData['sigma0'].sel(casts=cast)\n",
    "    castSA = minimalProfileData['SA'].sel(casts=cast)\n",
    "    castYear = minimalProfileData['time.year'].sel(casts=cast).data\n",
    "    castMonth = minimalProfileData['time.month'].sel(casts=cast).data\n",
    "    castClimatology = profileLocationClimatology.sel(\n",
    "            casts=cast,\n",
    "            TIME=slice(\n",
    "                np.datetime64(f'{castYear}-{castMonth:02d}') -\n",
    "                np.timedelta64(5, 'M'),\n",
    "                np.datetime64(f'{castYear}-{castMonth:02d}') +\n",
    "                np.timedelta64(6, 'M')\n",
    "            )\n",
    "        )\n",
    "    \n",
    "    plt.figure(figsize=(10, 6))\n",
    "    plt.plot(\n",
    "        castSA.data, castSigma0.data,\n",
    "        label='Profile Data', marker='o', linestyle='-'\n",
    "    )\n",
    "\n",
    "    meanInterpolatedBackground = \\\n",
    "        np.full_like(castSA.data, np.nan)\n",
    "\n",
    "    for time in castClimatology['TIME'].data:\n",
    "        # Get the background field for the current time\n",
    "        backgroundField = castClimatology.sel(TIME=time)\n",
    "\n",
    "        # Interpolate the background field to the density surfaces\n",
    "        # and accumulate the mean\n",
    "\n",
    "        if np.isnan(meanInterpolatedBackground).all():\n",
    "            meanInterpolatedBackground = np.interp(\n",
    "                castSigma0.data,\n",
    "                backgroundField['sigma0'].data,\n",
    "                backgroundField['SA'].data,\n",
    "                left=np.nan,  # Handle extrapolation\n",
    "                right=np.nan   # Handle extrapolation\n",
    "            )\n",
    "        else:\n",
    "            # Use np.nanmean to handle NaNs in the mean calculation\n",
    "            stack = np.stack(\n",
    "                (meanInterpolatedBackground,\n",
    "                 np.interp(\n",
    "                     castSigma0.data,\n",
    "                     backgroundField['sigma0'].data,\n",
    "                     backgroundField['SA'].data,\n",
    "                     left=np.nan,  # Handle extrapolation\n",
    "                     right=np.nan   # Handle extrapolation\n",
    "                 )),\n",
    "                axis=1\n",
    "            )\n",
    "            np.nanmean(\n",
    "                stack, axis=1, out=meanInterpolatedBackground\n",
    "            )\n",
    "    plt.plot(\n",
    "        meanInterpolatedBackground, castSigma0.data, linestyle='-',\n",
    "        label=f'Climatology'\n",
    "    )\n",
    "    plt.title(f'Cast {cast.data} - {castYear}-{castMonth:02d}')\n",
    "    plt.xlabel('Absolute Salinity (g/kg)')\n",
    "    plt.ylabel('Potential Density (kg/m³)')\n",
    "    plt.legend()\n",
    "    plt.grid()\n",
    "    plt.show()"
   ]
  },
  {
   "cell_type": "code",
   "execution_count": null,
   "id": "49fd12b6",
   "metadata": {},
   "outputs": [],
   "source": [
    "# Create a numpy array to hold the mean interpolated background\n",
    "interpolatedBackground = \\\n",
    "    np.full_like(castClimatology['SA'].data, np.nan)\n",
    "\n",
    "interpolatedBackground[:,12]"
   ]
  },
  {
   "cell_type": "code",
   "execution_count": null,
   "id": "410c0918",
   "metadata": {},
   "outputs": [],
   "source": [
    "salinityAnomaly['SA_anomaly'].loc[dict(casts=cast)] = (\n",
    "            castSA - meanInterpolatedBackground\n",
    "        )\n",
    "salinityAnomaly['SA_anomaly'].loc[dict(casts=cast)].data[:10]"
   ]
  },
  {
   "cell_type": "code",
   "execution_count": null,
   "id": "7719b664",
   "metadata": {},
   "outputs": [],
   "source": [
    "data = minimalProfileData['casts'][np.argwhere(interpolatedSalinity[-1,:,-10].isnull().values)[:,0]]\n",
    "fig, ax = plt.subplots(figsize=(10, 6), subplot_kw={'projection': ccrs.PlateCarree()})\n",
    "scatter = ax.scatter(\n",
    "    data['lon'], data['lat'], cmap='viridis'\n",
    ")\n",
    "ax.add_feature(cfeature.COASTLINE)\n",
    "ax.add_feature(cfeature.LAND, edgecolor='black')\n",
    "ax.add_feature(cfeature.BORDERS, linestyle=':')\n",
    "ax.set_title('Cast locations with missing interpolated climatology')\n",
    "ax.gridlines(\n",
    "    draw_labels=True, linewidth=0.5, color='gray', alpha=0.5, linestyle='--'\n",
    ")\n",
    "ax.set_xlabel('Longitude')\n",
    "ax.set_ylabel('Latitude')\n",
    "plt.savefig('missing_salinity_casts.png', dpi=300, bbox_inches='tight')"
   ]
  },
  {
   "cell_type": "code",
   "execution_count": null,
   "id": "f937f5d3",
   "metadata": {},
   "outputs": [],
   "source": [
    "salinityAnomalies = xr.open_dataset(\n",
    "    \"../data/ARGO_VortexProfiles/subsetProfiles/EasternTropicalPacific_anomalies.nc\"\n",
    ")"
   ]
  },
  {
   "cell_type": "code",
   "execution_count": null,
   "id": "6284594a",
   "metadata": {},
   "outputs": [],
   "source": [
    "lat_range = (12.5, 14)\n",
    "lon_range = (-106, -104.5)\n",
    "\n",
    "sampleBinAnomalies = subset(\n",
    "    salinityAnomalies,\n",
    "    lat_range=lat_range,\n",
    "    lon_range=lon_range,\n",
    "    var_names=['lat', 'lon', 'time']\n",
    ")"
   ]
  },
  {
   "cell_type": "code",
   "execution_count": null,
   "id": "bcbd75a6",
   "metadata": {},
   "outputs": [],
   "source": [
    "plottingStuff = sampleBinAnomalies.where(sampleBinAnomalies['sigma0'] > 24)\n",
    "plt.figure(figsize=(10, 6))\n",
    "plt.scatter(\n",
    "    np.abs(plottingStuff['SA_anomaly'].data), plottingStuff['sigma0'].data,\n",
    "    linestyle='-', color='black', s=0.1\n",
    ")\n",
    "plt.xlabel(r'Absolute Salinity Anomaly $|S^\\prime| = |S - \\{S\\}|$')\n",
    "plt.ylabel(r'$\\sigma_\\theta$')\n",
    "plt.title(f'Salinity Anomalies in Sample Bin - {lat_range[0]}°N to {lat_range[1]}°N, {lon_range[0]}°W to {lon_range[1]}°W')\n",
    "# Reverse y-axis\n",
    "plt.gca().invert_yaxis()\n",
    "plt.legend()\n",
    "plt.show()"
   ]
  },
  {
   "cell_type": "code",
   "execution_count": null,
   "id": "1ec408aa",
   "metadata": {},
   "outputs": [],
   "source": [
    "anomaly_avg = np.sqrt(np.nanmean(sampleBinAnomalies['SA_anomaly']**2, axis=0))\n",
    "plt.figure(figsize=(10, 6))\n",
    "plt.plot(\n",
    "    anomaly_avg, np.nanmean(sampleBinAnomalies['sigma0'].data, axis=0),\n",
    "    marker='o', linestyle='-'\n",
    ")"
   ]
  },
  {
   "cell_type": "code",
   "execution_count": null,
   "id": "4cd2632d",
   "metadata": {},
   "outputs": [],
   "source": [
    "uvel_url = 'http://apdrc.soest.hawaii.edu:80/dods/public_data/ECCO/ECCO2/cube92_daily/uvel'\n",
    "vvel_url = 'http://apdrc.soest.hawaii.edu:80/dods/public_data/ECCO/ECCO2/cube92_daily/vvel'\n",
    "theta_url = 'http://apdrc.soest.hawaii.edu:80/dods/public_data/ECCO/ECCO2/cube92_daily/theta'\n",
    "salt_url = 'http://apdrc.soest.hawaii.edu:80/dods/public_data/ECCO/ECCO2/cube92_daily/salt'\n",
    "ECCO2_uvel = xr.open_dataset(\n",
    "    uvel_url,\n",
    "    engine='pydap'\n",
    ")\n",
    "ECCO2_vvel = xr.open_dataset(\n",
    "    vvel_url,\n",
    "    engine='pydap'\n",
    ")\n",
    "ECCO2_theta = xr.open_dataset(\n",
    "    theta_url,\n",
    "    engine='pydap'\n",
    ")\n",
    "ECCO2_salt = xr.open_dataset(\n",
    "    salt_url,\n",
    "    engine='pydap'\n",
    ")"
   ]
  },
  {
   "cell_type": "code",
   "execution_count": null,
   "id": "d048b026",
   "metadata": {},
   "outputs": [],
   "source": [
    "ECCO2_uvel = ECCO2_uvel.sel(\n",
    "    lat=slice(5, 23.75),\n",
    "    lon=slice(245, 267.5),\n",
    "    time=slice(np.datetime64('2004-01-01'), np.datetime64('2022-12-31')),\n",
    "    drop=True\n",
    ")"
   ]
  },
  {
   "cell_type": "code",
   "execution_count": null,
   "id": "2b14af0a",
   "metadata": {},
   "outputs": [],
   "source": [
    "ECCO2_vvel = ECCO2_vvel.sel(\n",
    "    lat=slice(5, 23.75),\n",
    "    lon=slice(245, 267.5),\n",
    "    time=slice(np.datetime64('2004-01-01'), np.datetime64('2022-12-31')),\n",
    "    drop=True\n",
    ")"
   ]
  },
  {
   "cell_type": "code",
   "execution_count": null,
   "id": "beac7f4a",
   "metadata": {},
   "outputs": [],
   "source": [
    "ECCO2velocities = xr.merge(\n",
    "    [ECCO2_uvel, ECCO2_vvel]\n",
    ")"
   ]
  },
  {
   "cell_type": "code",
   "execution_count": null,
   "id": "2661b315",
   "metadata": {},
   "outputs": [],
   "source": [
    "ECCO2velocities"
   ]
  },
  {
   "cell_type": "code",
   "execution_count": null,
   "id": "a0372a48",
   "metadata": {},
   "outputs": [],
   "source": [
    "ECCO2velocities = ECCO2velocities.where(\n",
    "    (ECCO2velocities['lat'] <= 18) |\n",
    "    (ECCO2velocities['lon'] <= 240), drop=True\n",
    ")"
   ]
  }
 ],
 "metadata": {
  "kernelspec": {
   "display_name": "FloatDataAnalysis",
   "language": "python",
   "name": "python3"
  },
  "language_info": {
   "codemirror_mode": {
    "name": "ipython",
    "version": 3
   },
   "file_extension": ".py",
   "mimetype": "text/x-python",
   "name": "python",
   "nbconvert_exporter": "python",
   "pygments_lexer": "ipython3",
   "version": "3.13.3"
  }
 },
 "nbformat": 4,
 "nbformat_minor": 5
}
